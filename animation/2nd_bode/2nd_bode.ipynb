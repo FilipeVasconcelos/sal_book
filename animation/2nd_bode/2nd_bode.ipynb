{
 "cells": [
  {
   "cell_type": "code",
   "execution_count": null,
   "metadata": {},
   "outputs": [],
   "source": [
    "    "
   ]
  },
  {
   "cell_type": "code",
   "execution_count": 6,
   "metadata": {},
   "outputs": [],
   "source": [
    "import sys\n",
    "sys.path.insert(0, '/home/filipe/enseignement/sma_auto/notebook/ftransfert_module/')\n",
    "from ftransfert import Ftransfert\n",
    "import numpy as np"
   ]
  },
  {
   "cell_type": "code",
   "execution_count": 13,
   "metadata": {},
   "outputs": [
    {
     "name": "stdout",
     "output_type": "stream",
     "text": [
      "0.1 2nd_bode_files/2nd_bode_1.png\n",
      "0.15000000000000002 2nd_bode_files/2nd_bode_2.png\n",
      "0.20000000000000004 2nd_bode_files/2nd_bode_3.png\n",
      "0.25000000000000006 2nd_bode_files/2nd_bode_4.png\n",
      "0.30000000000000004 2nd_bode_files/2nd_bode_5.png\n",
      "0.3500000000000001 2nd_bode_files/2nd_bode_6.png\n",
      "0.40000000000000013 2nd_bode_files/2nd_bode_7.png\n",
      "0.45000000000000007 2nd_bode_files/2nd_bode_8.png\n",
      "0.5000000000000001 2nd_bode_files/2nd_bode_9.png\n",
      "0.5500000000000002 2nd_bode_files/2nd_bode_10.png\n",
      "0.6000000000000002 2nd_bode_files/2nd_bode_11.png\n",
      "0.6500000000000001 2nd_bode_files/2nd_bode_12.png\n",
      "0.7000000000000002 2nd_bode_files/2nd_bode_13.png\n",
      "0.7500000000000002 2nd_bode_files/2nd_bode_14.png\n",
      "0.8000000000000002 2nd_bode_files/2nd_bode_15.png\n",
      "0.8500000000000002 2nd_bode_files/2nd_bode_16.png\n",
      "0.9000000000000002 2nd_bode_files/2nd_bode_17.png\n",
      "0.9500000000000003 2nd_bode_files/2nd_bode_18.png\n",
      "1.0 2nd_bode_files/2nd_bode_19.png\n",
      "0.95 2nd_bode_files/2nd_bode_20.png\n",
      "0.8999999999999999 2nd_bode_files/2nd_bode_21.png\n",
      "0.8499999999999999 2nd_bode_files/2nd_bode_22.png\n",
      "0.7999999999999998 2nd_bode_files/2nd_bode_23.png\n",
      "0.7499999999999998 2nd_bode_files/2nd_bode_24.png\n",
      "0.6999999999999997 2nd_bode_files/2nd_bode_25.png\n",
      "0.6499999999999997 2nd_bode_files/2nd_bode_26.png\n",
      "0.5999999999999996 2nd_bode_files/2nd_bode_27.png\n",
      "0.5499999999999996 2nd_bode_files/2nd_bode_28.png\n",
      "0.49999999999999956 2nd_bode_files/2nd_bode_29.png\n",
      "0.4499999999999995 2nd_bode_files/2nd_bode_30.png\n",
      "0.39999999999999947 2nd_bode_files/2nd_bode_31.png\n",
      "0.3499999999999994 2nd_bode_files/2nd_bode_32.png\n",
      "0.2999999999999994 2nd_bode_files/2nd_bode_33.png\n",
      "0.24999999999999933 2nd_bode_files/2nd_bode_34.png\n",
      "0.1999999999999993 2nd_bode_files/2nd_bode_35.png\n",
      "0.14999999999999925 2nd_bode_files/2nd_bode_36.png\n"
     ]
    }
   ],
   "source": [
    "import matplotlib.pyplot as plt\n",
    "\n",
    "k=1\n",
    "for xi in np.arange(0.1,1.0,0.05):\n",
    "    gain=1    \n",
    "    num=lambda p : 1\n",
    "    den=lambda p : 1+2*xi*p+p**2\n",
    "    H_bo=Ftransfert(num=num,den=den,gain=gain,name=\"H_{BO}\",DPI=250,verbeux=0)\n",
    "    fig=H_bo.bode(n=1024,y1lim=(-80,20),y2lim=(-180,0),color=\"tab:green\",arrow_pcts=[0.3])\n",
    "    fname='2nd_bode_files/2nd_bode_'+str(k)+'.png'\n",
    "    print(xi,fname)\n",
    "    plt.savefig(fname,transparent=True)\n",
    "    plt.close(fig)\n",
    "    k+=1\n",
    "for xi in np.arange(1.0,0.1,-0.05):\n",
    "    gain=1    \n",
    "    num=lambda p : 1\n",
    "    den=lambda p : 1+2*xi*p+p**2\n",
    "    H_bo=Ftransfert(num=num,den=den,gain=gain,name=\"H_{BO}\",DPI=250,verbeux=0)\n",
    "    fig=H_bo.bode(n=1024,y1lim=(-80,20),y2lim=(-180,0),color=\"tab:green\",arrow_pcts=[0.3])\n",
    "    fname='2nd_bode_files/2nd_bode_'+str(k)+'.png'\n",
    "    print(xi,fname)\n",
    "    plt.savefig(fname,transparent=True)\n",
    "    plt.close(fig)\n",
    "    k+=1\n",
    "\n",
    "    #plt.show(block=False)"
   ]
  }
 ],
 "metadata": {
  "kernelspec": {
   "display_name": "Python 3",
   "language": "python",
   "name": "python3"
  },
  "language_info": {
   "codemirror_mode": {
    "name": "ipython",
    "version": 3
   },
   "file_extension": ".py",
   "mimetype": "text/x-python",
   "name": "python",
   "nbconvert_exporter": "python",
   "pygments_lexer": "ipython3",
   "version": "3.8.5"
  }
 },
 "nbformat": 4,
 "nbformat_minor": 4
}
