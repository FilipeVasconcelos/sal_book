{
 "cells": [
  {
   "cell_type": "markdown",
   "metadata": {},
   "source": [
    "# Principe de l'argument de Cauchy\n",
    "\n",
    "Ce notebook permet de tracer l'image d'un contour du plan complexe par une fonction de transfert quelconque. Le but est de vérifier **le principe de l'argument de Cauchy** en partant de cas simples. **Ce principe est à la base du critère de Nyquist qui permet\n",
    "d'étudier la stabilité des systèmes asservis.**\n",
    "\n",
    "<img src=\"fig/nyquist_cauchy-chap_stab-ext.png\" width=600>\n",
    "\n",
    "Le module qui s'occupe explicitement de calculer et tracer les contours d'origine et image se trouve dans le fichier `cauchy_main.py`. Ici nous allons simplement importer les fonctions les plus importantes et apprendre à les manipuler.\n",
    "\n",
    "L'importation du module se fait par l'instruction suivante:"
   ]
  },
  {
   "cell_type": "code",
   "execution_count": 2,
   "metadata": {},
   "outputs": [],
   "source": [
    "import sys\n",
    "sys.path.insert(0, '/home/filipe/enseignement/sma_auto/notebook/ftransfert_module/')"
   ]
  },
  {
   "cell_type": "code",
   "execution_count": 3,
   "metadata": {},
   "outputs": [],
   "source": [
    "from ftransfert import Ftransfert"
   ]
  },
  {
   "cell_type": "markdown",
   "metadata": {},
   "source": [
    "La classe `Ftransfert` permet de définir une fonction de transfert. Celle-ci sera simplement définie \n",
    "par son gain $k$, ses pôles $p_i$ et ses zéros $z_i$.\n",
    "\n",
    "$$\n",
    "F(p)=k\\dfrac{(p-z_1)(p-z_2)(p-z_3)\\ldots}{(p-p_1)(p-p_2)(p-p_3)\\ldots}\n",
    "$$\n",
    "\n",
    "La définition d'une fonction de transfert se fait par l'instuction suivante:\n",
    "```python\n",
    "zeros=[(1,0)]  \n",
    "poles=[(-1,0),(-2,0)]\n",
    "gain=0.25\n",
    "F=Ftransfert(zeros=zeros,poles=poles,gain=gain)\n",
    "```\n",
    "où `zeros` et `poles` sont des listes de nombre complexe.\n",
    "Un segment de points est une liste de nombres complexes modélisés par un tuple de deux éléments `(réel,imaginaire)`."
   ]
  },
  {
   "cell_type": "code",
   "execution_count": null,
   "metadata": {},
   "outputs": [],
   "source": [
    "zeros=[]  \n",
    "poles=[(-1,0),(-2,0)]\n",
    "gain=6\n",
    "F=Ftransfert(zeros=zeros,poles=poles,gain=gain)\n",
    "print(repr(F))\n",
    "print(str(F))"
   ]
  },
  {
   "cell_type": "markdown",
   "metadata": {},
   "source": [
    "Pour tracer le diagramme de Nyquist on utilisera la méthode suivante :"
   ]
  },
  {
   "cell_type": "code",
   "execution_count": null,
   "metadata": {
    "scrolled": false
   },
   "outputs": [],
   "source": [
    "import matplotlib.pyplot as plt \n",
    "F.nyquist(labels=r\"$F(p)$\",xlim=(-2,4),ylim=(-2.5,2.5),n=4096,dw=0.01)"
   ]
  },
  {
   "cell_type": "markdown",
   "metadata": {},
   "source": [
    "# Contour dans le plan complexe\n",
    "Le module est accompagné de quelques fonctions pour tracer des figures de contour simple."
   ]
  },
  {
   "cell_type": "code",
   "execution_count": 6,
   "metadata": {},
   "outputs": [],
   "source": [
    "from contour import rectangle,circle,plot_contour"
   ]
  },
  {
   "cell_type": "markdown",
   "metadata": {},
   "source": [
    "Commençons par définir un contour de la forme d'un rectangle en définissant deux coins de coordonnées\n",
    "`A=(-1.5,-1)` et `B=(-0.5,1)` à l'aide de la fonction rectangle.\n",
    "Celle-ci retourne une liste de quatre liste Python de 64 points chacuns (valeur par défaut: 128). "
   ]
  },
  {
   "cell_type": "code",
   "execution_count": null,
   "metadata": {
    "scrolled": false
   },
   "outputs": [],
   "source": [
    "C1=rectangle((1,-1),(2,1),npts=64)\n",
    "plot_contour(C1,xlim=(-2,3.5),ylim=(-1.5,1.5))"
   ]
  },
  {
   "cell_type": "markdown",
   "metadata": {},
   "source": [
    "On peut également définir le même contour mais parcouru dans le sens contraire (ici le sens trigonométrique). \n",
    "Nous nommerons ce contour `C1_inv`"
   ]
  },
  {
   "cell_type": "code",
   "execution_count": null,
   "metadata": {},
   "outputs": [],
   "source": [
    "C1_inv=rectangle((1,-1),(2,1),npts=64,inverse=True)\n",
    "plot_contour(C1_inv,xlim=(-2,3.5),ylim=(-1.5,1.5))"
   ]
  },
  {
   "cell_type": "markdown",
   "metadata": {},
   "source": [
    "# Image d'un contour par une fonction de transfert\n",
    "\n",
    "## Fonction de transfert avec un seul zéro\n",
    "Déterminons maintenant l'image de ces contours par une fonction de transfert composée d'un seul zéro ($z_1=-1$).\n",
    "\n",
    "$$\n",
    "F_1(p)=(p+1)\n",
    "$$\n",
    "\n"
   ]
  },
  {
   "cell_type": "code",
   "execution_count": null,
   "metadata": {},
   "outputs": [],
   "source": [
    "poles=[]\n",
    "zeros=[(-1,0)]\n",
    "gain=1\n",
    "F_1=Ftransfert(zeros=zeros,poles=poles,gain=gain,name=\"F_1\")"
   ]
  },
  {
   "cell_type": "markdown",
   "metadata": {},
   "source": [
    "### Contour ne contenant pas le zéro parcouru \n",
    "#### ... dans le sens horaire"
   ]
  },
  {
   "cell_type": "code",
   "execution_count": null,
   "metadata": {},
   "outputs": [],
   "source": [
    "F_1.cauchy(C1,xlim=(-2,3.5),ylim=(-1.5,1.5),contourLabel=\"C1\")"
   ]
  },
  {
   "cell_type": "markdown",
   "metadata": {},
   "source": [
    "#### ... Dans le sens trigonométrique"
   ]
  },
  {
   "cell_type": "code",
   "execution_count": null,
   "metadata": {},
   "outputs": [],
   "source": [
    "F_1.cauchy(C1_inv,xlim=(-2,3.5),ylim=(-1.5,1.5),contourLabel=\"C1 (inverse)\")"
   ]
  },
  {
   "cell_type": "markdown",
   "metadata": {},
   "source": [
    "(La carte des pôles et zéros de la fonction de transfert sera toujours représentée sur le graphe de gauche. Sur le graphe de droite c'est l'origine du plan qui sera toujours représentée par un '+'.)\n",
    "\n",
    "Nous constatons que l'image du contour par une telle fonction de transfert est simplement translatée d'une distance égale à la distance entre le point du contour et la position du zéro. **Nous observons également que le sens de parcours du contour de l'image n'est pas modifié.**\n",
    "\n",
    "### Contour contenant le zéro\n",
    "On se donne un deuxième contour `C2` qui contient le zéro de la fonction de transfert test."
   ]
  },
  {
   "cell_type": "code",
   "execution_count": null,
   "metadata": {
    "scrolled": false
   },
   "outputs": [],
   "source": [
    "C2=rectangle((-1.5,-1),(-0.5,1),npts=64)\n",
    "C2_inv=rectangle((-1.5,-1),(-0.5,1),npts=64,inverse=True)"
   ]
  },
  {
   "cell_type": "code",
   "execution_count": null,
   "metadata": {},
   "outputs": [],
   "source": [
    "F_1.cauchy(C2,xlim=(-2,1),ylim=(-1.5,1.5),contourLabel=\"C2\")"
   ]
  },
  {
   "cell_type": "code",
   "execution_count": null,
   "metadata": {},
   "outputs": [],
   "source": [
    "F_1.cauchy(C2_inv,xlim=(-2,1),ylim=(-1.5,1.5),contourLabel=\"C2 (inverse)\")"
   ]
  },
  {
   "cell_type": "markdown",
   "metadata": {},
   "source": [
    "**Ici le contour $\\mathcal{C}$ contient le zéro de la fonction de transfert. \n",
    "Nous observons que le contour image contient l'origine (et est orienté dans le même sens que le contour origine).**\n",
    "## Fonction de transfert avec deux zéros\n",
    "\n",
    "Traçons maintenant le résultat pour une fonction de transfert possédant deux zéros ($z_1=-1$ et $z_2=-0.75$):\n",
    "\n",
    "$$\n",
    "F_2(p)=\\dfrac{1}{4}(p+1)(p+0.75).\n",
    "$$\n",
    "\n",
    "### Contour contenant pas les zéros"
   ]
  },
  {
   "cell_type": "code",
   "execution_count": null,
   "metadata": {},
   "outputs": [],
   "source": [
    "zeros=[(-1,0),(-0.75,0)]\n",
    "poles=[]\n",
    "gain=0.25\n",
    "F_2=Ftransfert(zeros=zeros,poles=poles,gain=gain,name=\"F_2\")"
   ]
  },
  {
   "cell_type": "code",
   "execution_count": null,
   "metadata": {},
   "outputs": [],
   "source": [
    "F_2.cauchy(C1,xlim=(-2,3.5),ylim=(-1.5,1.5),contourLabel=\"C1\")"
   ]
  },
  {
   "cell_type": "code",
   "execution_count": null,
   "metadata": {},
   "outputs": [],
   "source": [
    "F_2.cauchy(C1_inv,xlim=(-2,3.5),ylim=(-1.5,1.5),contourLabel=\"C1 (inverse)\")"
   ]
  },
  {
   "cell_type": "markdown",
   "metadata": {},
   "source": [
    "**On observe comme précédemment que si le contour ne contient pas les zéros de la fonction de transfert, l'image de celui-ci ne fait aucun tour autour de l'origine.** \n",
    "\n",
    "###  Contour contenant les deux zéros\n",
    "\n",
    "Dans cet exemple, nous allons utiliser un nouveau contour de la forme d'un cercle."
   ]
  },
  {
   "cell_type": "code",
   "execution_count": 9,
   "metadata": {},
   "outputs": [],
   "source": [
    "C3=circle(center=(-1,0),radius=0.75)\n",
    "C3_inv=circle(center=(-1,0),radius=0.75,inverse=True)"
   ]
  },
  {
   "cell_type": "code",
   "execution_count": null,
   "metadata": {},
   "outputs": [],
   "source": [
    "F_2.cauchy(C3,xlim=[(-1.9,1.0),(-0.3,0.3)],ylim=[(-1,1),(-0.25,0.25)],contourLabel=\"C1\")"
   ]
  },
  {
   "cell_type": "code",
   "execution_count": null,
   "metadata": {},
   "outputs": [],
   "source": [
    "F_2.cauchy(C3_inv,xlim=[(-1.9,1.0),(-0.3,0.3)],ylim=[(-1,1),(-0.25,0.25)],contourLabel=\"C1 (inverse)\")"
   ]
  },
  {
   "cell_type": "markdown",
   "metadata": {},
   "source": [
    "Si le contour contient deux zéros, l'image par la fonction de transfert fait deux tours autour de l'origine. Plus généralement, **si le contour contient un nombre $Z$ de zéros, l'image par la fonction de transfert du contour fait $Z$ tours autour de l'origine dans le même sens.**\n",
    "## Fonction de transfert possédant un pôle\n",
    "Nous allons maintenant observer le comportement de ces tracés pour différents contours dans le cas où la fonction de transfert présente un pôle, notamment avec :\n",
    "\n",
    "$$\n",
    "F_3(p)=\\dfrac{6}{p+1}\n",
    "$$\n",
    "\n",
    "### Contour ne contenant pas le pôle"
   ]
  },
  {
   "cell_type": "code",
   "execution_count": null,
   "metadata": {
    "scrolled": false
   },
   "outputs": [],
   "source": [
    "zeros=[]\n",
    "poles=[(-1,0)]\n",
    "gain=6\n",
    "F_3=Ftransfert(zeros=zeros,poles=poles,gain=gain,name=\"F_3\")"
   ]
  },
  {
   "cell_type": "code",
   "execution_count": null,
   "metadata": {},
   "outputs": [],
   "source": [
    "F_3.cauchy(C1,xlim=(-2,3.5),ylim=(-1.5,1.5),contourLabel=\"C1\")"
   ]
  },
  {
   "cell_type": "code",
   "execution_count": null,
   "metadata": {},
   "outputs": [],
   "source": [
    "F_3.cauchy(C1_inv,xlim=(-2,3.5),ylim=(-1.5,1.5),contourLabel=\"C1 (inverse)\")"
   ]
  },
  {
   "cell_type": "markdown",
   "metadata": {},
   "source": [
    "Nous remarquons tout d'abord que le contour image ne contient pas l'origine du plan complexe. De plus\n",
    "le contour image est parcouru dans le même sens que le contour origine\n",
    "\n",
    "### Contour contenant le pôle"
   ]
  },
  {
   "cell_type": "code",
   "execution_count": null,
   "metadata": {},
   "outputs": [],
   "source": [
    "F_3.cauchy(C2,xlim=[(-2,2),(-15,15)],ylim=[(-1.5,1.5),(-7,7)],contourLabel=\"C1\")"
   ]
  },
  {
   "cell_type": "code",
   "execution_count": null,
   "metadata": {},
   "outputs": [],
   "source": [
    "F_3.cauchy(C2_inv,xlim=[(-2,2),(-15,15)],ylim=[(-1.5,1.5),(-7,7)],contourLabel=\"C1 (inverse)\")"
   ]
  },
  {
   "cell_type": "markdown",
   "metadata": {},
   "source": [
    "**Nous remarquons que l'image du contour contient l'origine dans le sens opposé celui du contour d'origine.**\n",
    "Nous allons procédé de la même manière avec une fonction de transfert possédant deux pôles.\n",
    "\n",
    "$$\n",
    "F_4(p)=\\dfrac{6}{(p+1)(p+0.75)}\n",
    "$$\n",
    "\n",
    "### Contour ne contenant pas les pôles"
   ]
  },
  {
   "cell_type": "code",
   "execution_count": null,
   "metadata": {},
   "outputs": [],
   "source": [
    "zeros=[]\n",
    "poles=[(-1,0),(-0.75,0)]\n",
    "gain=6\n",
    "F_4=Ftransfert(zeros=zeros,poles=poles,gain=gain,name=\"F_4\")"
   ]
  },
  {
   "cell_type": "code",
   "execution_count": null,
   "metadata": {},
   "outputs": [],
   "source": [
    "F_4.cauchy(C1,xlim=(-2,3.5),ylim=(-1.5,1.5),contourLabel=\"C1\")"
   ]
  },
  {
   "cell_type": "code",
   "execution_count": null,
   "metadata": {},
   "outputs": [],
   "source": [
    "F_4.cauchy(C1_inv,xlim=(-2,3.5),ylim=(-1.5,1.5),contourLabel=\"C1 (inverse)\")"
   ]
  },
  {
   "cell_type": "markdown",
   "metadata": {},
   "source": [
    "Nous observons comme précédemment que le contour de l'image ne contient pas l'origine.\n",
    "\n",
    "### Contour contenant les pôles"
   ]
  },
  {
   "cell_type": "code",
   "execution_count": null,
   "metadata": {},
   "outputs": [],
   "source": [
    "F_4.cauchy(C3,xlim=[(-2,2),(-15,20)],ylim=[(-1.5,1.5),(-15,15)],contourLabel=\"C3\")"
   ]
  },
  {
   "cell_type": "code",
   "execution_count": null,
   "metadata": {},
   "outputs": [],
   "source": [
    "plt.show()\n",
    "F_4.cauchy(C3_inv,xlim=[(-2,2),(-15,20)],ylim=[(-1.5,1.5),(-15,15)],contourLabel=\"C3 (inverse)\")"
   ]
  },
  {
   "cell_type": "markdown",
   "metadata": {},
   "source": [
    "**Si le contour contient un nombre $P$ de pôles, l'image par la fonction de transfert de\n",
    "ce contour fait un nombre $P$ de tours autour de l'origine dans le sens opposé (à celui du contour).**\n",
    "# Enoncé du principe de l'argument de Cauchy\n",
    "On énonce alors le principe de Cauchy:\n",
    "\n",
    "Si un contour $\\mathcal{C}$ contient $Z$ zéros et $P$ pôles d'une fonction analytique $F(p)$ \n",
    "sans en traverser aucun, alors quand on le parcourt dans le sens anti-trigonométrique, le contour image par $F(p)$, $\\Gamma=F(\\mathcal{C})$ fait un nombre de tours $N$ autour de l'origine dans le sens trigonométrique égal à,\n",
    "\n",
    "$$\n",
    "    N=Z-P\n",
    "$$\n"
   ]
  },
  {
   "cell_type": "markdown",
   "metadata": {},
   "source": [
    "## Exemple 1 "
   ]
  },
  {
   "cell_type": "markdown",
   "metadata": {},
   "source": [
    "$$\n",
    "F_5(p)=\\dfrac{p+1}{p^3}\n",
    "$$"
   ]
  },
  {
   "cell_type": "code",
   "execution_count": 62,
   "metadata": {},
   "outputs": [],
   "source": [
    "zeros=[(-1,0)]\n",
    "poles=[(0,0),(0,0),(0,0)]\n",
    "gain=1\n",
    "F_5=Ftransfert(zeros=zeros,poles=poles,gain=gain,name=\"F_5\")"
   ]
  },
  {
   "cell_type": "code",
   "execution_count": 65,
   "metadata": {},
   "outputs": [
    {
     "name": "stdout",
     "output_type": "stream",
     "text": [
      "************************************************************\n",
      "Cauchy plot : contour \n",
      "\n",
      "              (p+1)\n",
      "F_5(p) = ---------------\n",
      "         (p-0)(p-0)(p-0)\n",
      "\n",
      "************************************************************\n",
      "\n"
     ]
    },
    {
     "data": {
      "image/png": "[encoded data removed]",
      "text/plain": [
       "<Figure size 900x400 with 2 Axes>"
      ]
     },
     "metadata": {
      "needs_background": "light"
     },
     "output_type": "display_data"
    }
   ],
   "source": [
    "C3=circle(center=(0,0),radius=1.5)\n",
    "C3_inv=circle(center=(-1,0),radius=0.75,inverse=True)\n",
    "F_5.cauchy(C3,xlim=[(-2.5,1.5),(-1,1)],ylim=[(-1.5,1.5),(-1,1)])"
   ]
  },
  {
   "cell_type": "markdown",
   "metadata": {},
   "source": [
    "Pour cet exemple on a:\n",
    "* $Z=1$\n",
    "* $P=3$\n",
    "* $N=1-3=-2$\n",
    "\n",
    "Donc l'image fait 2 tours autour de l'origine dans le sens trigonométrique."
   ]
  },
  {
   "cell_type": "markdown",
   "metadata": {},
   "source": [
    "## Exemple 2"
   ]
  },
  {
   "cell_type": "markdown",
   "metadata": {},
   "source": [
    "On vérifie le principe de l'argument de Cauchy avec une fonction de transfert composé de cinq zéros et deux pôles.\n",
    "Et un contour $\\mathcal{C}$ qui ne contient que $Z=3$ zéros et $P=1$ pôle. On a donc $N=-2$. Le signe négatif indique que le nombre de tours est dans le sens opposé au sens trigonométrique (lorque le contour d'origine tourne dans le sens horaire.\n",
    "\n",
    "$$\n",
    "F_6(p) = 0.75\\dfrac{(p+0.75-0.5j)(p+0.75+0.5j)(p+1.65)(p+2-j)(p+2+j)}{(p+1)(p+2.25)}\n",
    "$$"
   ]
  },
  {
   "cell_type": "code",
   "execution_count": 60,
   "metadata": {},
   "outputs": [],
   "source": [
    "zeros=[(-0.75,0.5),(-0.75,-0.5),(-1.65,0),(-2,1),(-2,-1)]\n",
    "poles=[(-1,0),(-2.25,0)]\n",
    "gain=0.75\n",
    "F_6=Ftransfert(zeros=zeros,poles=poles,gain=gain,name=\"F_6\")"
   ]
  },
  {
   "cell_type": "code",
   "execution_count": 58,
   "metadata": {
    "scrolled": false
   },
   "outputs": [
    {
     "name": "stdout",
     "output_type": "stream",
     "text": [
      "************************************************************\n",
      "Cauchy plot : contour \n",
      "\n",
      "              (p+0.75-0.5j)(p+0.75+0.5j)(p+1.65)(p+2-j)(p+2+j)\n",
      "F_6(p) = 0.75 ------------------------------------------------\n",
      "                               (p+1)(p+2.25)\n",
      "\n",
      "************************************************************\n",
      "\n"
     ]
    },
    {
     "data": {
      "image/png": "[encoded data removed]",
      "text/plain": [
       "<Figure size 900x400 with 2 Axes>"
      ]
     },
     "metadata": {
      "needs_background": "light"
     },
     "output_type": "display_data"
    }
   ],
   "source": [
    "C3=circle(center=(-1,0),radius=0.75)\n",
    "F_6.cauchy(C3,xlim=(-2.5,1.5),ylim=(-1.5,1.5))"
   ]
  },
  {
   "cell_type": "markdown",
   "metadata": {},
   "source": [
    "Pour cet exemple on a:\n",
    "* $Z=3$\n",
    "* $P=1$\n",
    "* $N=3-1=2$\n",
    "\n",
    "Donc l'image fait 2 tours autour de l'origine dans le sens des aiguilles d'une montre."
   ]
  }
 ],
 "metadata": {
  "kernelspec": {
   "display_name": "Python 3",
   "language": "python",
   "name": "python3"
  },
  "language_info": {
   "codemirror_mode": {
    "name": "ipython",
    "version": 3
   },
   "file_extension": ".py",
   "mimetype": "text/x-python",
   "name": "python",
   "nbconvert_exporter": "python",
   "pygments_lexer": "ipython3",
   "version": "3.8.5"
  }
 },
 "nbformat": 4,
 "nbformat_minor": 2
}
